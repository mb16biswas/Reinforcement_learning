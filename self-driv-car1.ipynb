{
 "cells": [
  {
   "cell_type": "code",
   "execution_count": 1,
   "id": "d57722cf",
   "metadata": {},
   "outputs": [],
   "source": [
    "import gym \n",
    "from stable_baselines3 import PPO\n",
    "from stable_baselines3.common.vec_env import VecFrameStack\n",
    "from stable_baselines3.common.evaluation import evaluate_policy\n",
    "import os"
   ]
  },
  {
   "cell_type": "code",
   "execution_count": 2,
   "id": "9e0814b2",
   "metadata": {},
   "outputs": [],
   "source": [
    "environment_name = \"CarRacing-v0\""
   ]
  },
  {
   "cell_type": "code",
   "execution_count": 4,
   "id": "d03af8e0",
   "metadata": {},
   "outputs": [],
   "source": [
    "env = gym.make(environment_name)"
   ]
  },
  {
   "cell_type": "code",
   "execution_count": 5,
   "id": "57feff69",
   "metadata": {},
   "outputs": [],
   "source": [
    "env??"
   ]
  },
  {
   "cell_type": "code",
   "execution_count": 5,
   "id": "6642c82b",
   "metadata": {},
   "outputs": [
    {
     "name": "stdout",
     "output_type": "stream",
     "text": [
      "Track generation: 1099..1378 -> 279-tiles track\n",
      "Episode:1 Score:-28.05755395683485\n"
     ]
    }
   ],
   "source": [
    "\n",
    "episodes = 1\n",
    "for episode in range(1, episodes+1):\n",
    "    state = env.reset()\n",
    "    done = False\n",
    "    score = 0 \n",
    "    \n",
    "    while not done:\n",
    "        env.render()\n",
    "        action = env.action_space.sample()\n",
    "        n_state, reward, done, info = env.step(action)\n",
    "        score+=reward\n",
    "    print('Episode:{} Score:{}'.format(episode, score))\n",
    "env.close()"
   ]
  },
  {
   "cell_type": "markdown",
   "id": "9a3e47e3",
   "metadata": {},
   "source": [
    "\n",
    "https://gym.openai.com/envs/CarRacing-v0/\n",
    "\n",
    "\"\"\"\n",
    "Easiest continuous control task to learn from pixels, a top-down racing\n",
    "environment.\n",
    "Discrete control is reasonable in this environment as well, on/off\n",
    "discretization is fine.\n",
    "State consists of STATE_W x STATE_H pixels.\n",
    "The reward is -0.1 every frame and +1000/N for every track tile visited, where\n",
    "N is the total number of tiles visited in the track. For example, if you have\n",
    "finished in 732 frames, your reward is 1000 - 0.1*732 = 926.8 points.\n",
    "The game is solved when the agent consistently gets 900+ points. The generated\n",
    "track is random every episode.\n",
    "The episode finishes when all the tiles are visited. The car also can go\n",
    "outside of the PLAYFIELD -  that is far off the track, then it will get -100\n",
    "and die.\n",
    "Some indicators are shown at the bottom of the window along with the state RGB\n",
    "buffer. From left to right: the true speed, four ABS sensors, the steering\n",
    "wheel position and gyroscope.\n",
    "To play yourself (it's rather fast for humans), type:\n",
    "python gym/envs/box2d/car_racing.py\n",
    "Remember it's a powerful rear-wheel drive car -  don't press the accelerator\n",
    "and turn at the same time.\n",
    "Created by Oleg Klimov. Licensed on the same terms as the rest of OpenAI Gym.\n",
    "\"\"\"\n",
    "https://github.com/openai/gym/blob/master/gym/envs/box2d/car_racing.py"
   ]
  },
  {
   "cell_type": "code",
   "execution_count": 6,
   "id": "318209a5",
   "metadata": {},
   "outputs": [
    {
     "name": "stdout",
     "output_type": "stream",
     "text": [
      "Box(-1.0, 1.0, (3,), float32)\n",
      "[0.3656063  0.21270551 0.51143247]\n"
     ]
    }
   ],
   "source": [
    "action = env.action_space\n",
    "print(action)\n",
    "print(action.sample())\n",
    "\n",
    "#steer, gas, brake\n"
   ]
  },
  {
   "cell_type": "code",
   "execution_count": 7,
   "id": "85ba5d92",
   "metadata": {},
   "outputs": [
    {
     "name": "stdout",
     "output_type": "stream",
     "text": [
      "(array([[[102, 204, 102],\n",
      "        [102, 229, 102],\n",
      "        [102, 229, 102],\n",
      "        ...,\n",
      "        [102, 204, 102],\n",
      "        [102, 204, 102],\n",
      "        [102, 204, 102]],\n",
      "\n",
      "       [[102, 204, 102],\n",
      "        [102, 229, 102],\n",
      "        [102, 229, 102],\n",
      "        ...,\n",
      "        [102, 204, 102],\n",
      "        [102, 204, 102],\n",
      "        [102, 204, 102]],\n",
      "\n",
      "       [[102, 204, 102],\n",
      "        [102, 204, 102],\n",
      "        [102, 229, 102],\n",
      "        ...,\n",
      "        [102, 204, 102],\n",
      "        [102, 204, 102],\n",
      "        [102, 204, 102]],\n",
      "\n",
      "       ...,\n",
      "\n",
      "       [[  0,   0,   0],\n",
      "        [  0,   0,   0],\n",
      "        [  0,   0,   0],\n",
      "        ...,\n",
      "        [  0,   0,   0],\n",
      "        [  0,   0,   0],\n",
      "        [  0,   0,   0]],\n",
      "\n",
      "       [[  0,   0,   0],\n",
      "        [  0,   0,   0],\n",
      "        [  0,   0,   0],\n",
      "        ...,\n",
      "        [  0,   0,   0],\n",
      "        [  0,   0,   0],\n",
      "        [  0,   0,   0]],\n",
      "\n",
      "       [[  0,   0,   0],\n",
      "        [  0,   0,   0],\n",
      "        [  0,   0,   0],\n",
      "        ...,\n",
      "        [  0,   0,   0],\n",
      "        [  0,   0,   0],\n",
      "        [  0,   0,   0]]], dtype=uint8), -0.10000000000000142, True, {'TimeLimit.truncated': True})\n"
     ]
    }
   ],
   "source": [
    "action = env.action_space.sample()\n",
    "print(env.step(action))"
   ]
  },
  {
   "cell_type": "code",
   "execution_count": 10,
   "id": "978200ea",
   "metadata": {},
   "outputs": [],
   "source": [
    "env.close()"
   ]
  },
  {
   "cell_type": "code",
   "execution_count": 9,
   "id": "9736adad",
   "metadata": {},
   "outputs": [
    {
     "name": "stdout",
     "output_type": "stream",
     "text": [
      "Track generation: 1221..1530 -> 309-tiles track\n"
     ]
    },
    {
     "data": {
      "text/plain": [
       "array([[[0, 0, 0],\n",
       "        [0, 0, 0],\n",
       "        [0, 0, 0],\n",
       "        ...,\n",
       "        [0, 0, 0],\n",
       "        [0, 0, 0],\n",
       "        [0, 0, 0]],\n",
       "\n",
       "       [[0, 0, 0],\n",
       "        [0, 0, 0],\n",
       "        [0, 0, 0],\n",
       "        ...,\n",
       "        [0, 0, 0],\n",
       "        [0, 0, 0],\n",
       "        [0, 0, 0]],\n",
       "\n",
       "       [[0, 0, 0],\n",
       "        [0, 0, 0],\n",
       "        [0, 0, 0],\n",
       "        ...,\n",
       "        [0, 0, 0],\n",
       "        [0, 0, 0],\n",
       "        [0, 0, 0]],\n",
       "\n",
       "       ...,\n",
       "\n",
       "       [[0, 0, 0],\n",
       "        [0, 0, 0],\n",
       "        [0, 0, 0],\n",
       "        ...,\n",
       "        [0, 0, 0],\n",
       "        [0, 0, 0],\n",
       "        [0, 0, 0]],\n",
       "\n",
       "       [[0, 0, 0],\n",
       "        [0, 0, 0],\n",
       "        [0, 0, 0],\n",
       "        ...,\n",
       "        [0, 0, 0],\n",
       "        [0, 0, 0],\n",
       "        [0, 0, 0]],\n",
       "\n",
       "       [[0, 0, 0],\n",
       "        [0, 0, 0],\n",
       "        [0, 0, 0],\n",
       "        ...,\n",
       "        [0, 0, 0],\n",
       "        [0, 0, 0],\n",
       "        [0, 0, 0]]], dtype=uint8)"
      ]
     },
     "execution_count": 9,
     "metadata": {},
     "output_type": "execute_result"
    }
   ],
   "source": [
    "env.reset()"
   ]
  },
  {
   "cell_type": "code",
   "execution_count": 11,
   "id": "1f2a690b",
   "metadata": {},
   "outputs": [],
   "source": [
    "n_state, reward, done, info = env.step(action)"
   ]
  },
  {
   "cell_type": "code",
   "execution_count": null,
   "id": "fe965ea0",
   "metadata": {},
   "outputs": [],
   "source": []
  },
  {
   "cell_type": "code",
   "execution_count": 12,
   "id": "9b8e9da0",
   "metadata": {},
   "outputs": [],
   "source": [
    "env.close()"
   ]
  },
  {
   "cell_type": "code",
   "execution_count": 13,
   "id": "87ac659a",
   "metadata": {},
   "outputs": [
    {
     "data": {
      "text/plain": [
       "(numpy.ndarray, float, bool, dict)"
      ]
     },
     "execution_count": 13,
     "metadata": {},
     "output_type": "execute_result"
    }
   ],
   "source": [
    "type(n_state) , type(reward) , type(done) , type(info)"
   ]
  },
  {
   "cell_type": "code",
   "execution_count": 14,
   "id": "4bf19212",
   "metadata": {},
   "outputs": [
    {
     "data": {
      "text/plain": [
       "(96, 96, 3)"
      ]
     },
     "execution_count": 14,
     "metadata": {},
     "output_type": "execute_result"
    }
   ],
   "source": [
    "n_state.shape"
   ]
  },
  {
   "cell_type": "code",
   "execution_count": 15,
   "id": "812bade6",
   "metadata": {},
   "outputs": [
    {
     "data": {
      "text/plain": [
       "(6.393506493506494, False, {})"
      ]
     },
     "execution_count": 15,
     "metadata": {},
     "output_type": "execute_result"
    }
   ],
   "source": [
    "reward , done , info"
   ]
  },
  {
   "cell_type": "code",
   "execution_count": 16,
   "id": "d964a1a9",
   "metadata": {},
   "outputs": [
    {
     "name": "stdout",
     "output_type": "stream",
     "text": [
      "Using cpu device\n",
      "Wrapping the env with a `Monitor` wrapper\n",
      "Wrapping the env in a DummyVecEnv.\n",
      "Wrapping the env in a VecTransposeImage.\n"
     ]
    }
   ],
   "source": [
    "model = PPO('MlpPolicy', env, verbose=1)\n"
   ]
  },
  {
   "cell_type": "code",
   "execution_count": 17,
   "id": "1a4b299b",
   "metadata": {},
   "outputs": [
    {
     "name": "stdout",
     "output_type": "stream",
     "text": [
      "Track generation: 1084..1367 -> 283-tiles track\n",
      "Track generation: 1163..1458 -> 295-tiles track\n",
      "Track generation: 1187..1488 -> 301-tiles track\n",
      "---------------------------------\n",
      "| rollout/           |          |\n",
      "|    ep_len_mean     | 1e+03    |\n",
      "|    ep_rew_mean     | -56.5    |\n",
      "| time/              |          |\n",
      "|    fps             | 137      |\n",
      "|    iterations      | 1        |\n",
      "|    time_elapsed    | 14       |\n",
      "|    total_timesteps | 2048     |\n",
      "---------------------------------\n"
     ]
    },
    {
     "data": {
      "text/plain": [
       "<stable_baselines3.ppo.ppo.PPO at 0x3e271e1880>"
      ]
     },
     "execution_count": 17,
     "metadata": {},
     "output_type": "execute_result"
    }
   ],
   "source": [
    "model.learn(total_timesteps=1000)"
   ]
  },
  {
   "cell_type": "code",
   "execution_count": 18,
   "id": "90b808c7",
   "metadata": {},
   "outputs": [],
   "source": [
    "env.close()"
   ]
  },
  {
   "cell_type": "code",
   "execution_count": 19,
   "id": "3dd563f6",
   "metadata": {},
   "outputs": [],
   "source": [
    "model.save(\"self-driv\")"
   ]
  },
  {
   "cell_type": "code",
   "execution_count": 21,
   "id": "039a95b4",
   "metadata": {},
   "outputs": [
    {
     "name": "stdout",
     "output_type": "stream",
     "text": [
      "Wrapping the env with a `Monitor` wrapper\n",
      "Wrapping the env in a DummyVecEnv.\n",
      "Wrapping the env in a VecTransposeImage.\n"
     ]
    }
   ],
   "source": [
    "load_model = PPO.load(\"self-driv\", env)"
   ]
  },
  {
   "cell_type": "code",
   "execution_count": 23,
   "id": "a1881318",
   "metadata": {},
   "outputs": [],
   "source": [
    "load_model??"
   ]
  },
  {
   "cell_type": "code",
   "execution_count": 28,
   "id": "d80c3f34",
   "metadata": {},
   "outputs": [
    {
     "name": "stdout",
     "output_type": "stream",
     "text": [
      "Track generation: 1154..1449 -> 295-tiles track\n",
      "retry to generate track (normal if there are not manyinstances of this message)\n",
      "Track generation: 1136..1424 -> 288-tiles track\n",
      "info {'TimeLimit.truncated': True}\n"
     ]
    }
   ],
   "source": [
    "obs = env.reset()\n",
    "while True:\n",
    "    action, _states = load_model.predict(obs)\n",
    "    obs, rewards, done, info = env.step(action)\n",
    "    env.render()\n",
    "    if done: \n",
    "        print('info', info)\n",
    "        break\n",
    "env.close()            "
   ]
  },
  {
   "cell_type": "code",
   "execution_count": 29,
   "id": "9983dc88",
   "metadata": {},
   "outputs": [],
   "source": [
    "env.close()"
   ]
  },
  {
   "cell_type": "code",
   "execution_count": null,
   "id": "1e07ba6b",
   "metadata": {},
   "outputs": [],
   "source": []
  }
 ],
 "metadata": {
  "kernelspec": {
   "display_name": "Python 3",
   "language": "python",
   "name": "python3"
  },
  "language_info": {
   "codemirror_mode": {
    "name": "ipython",
    "version": 3
   },
   "file_extension": ".py",
   "mimetype": "text/x-python",
   "name": "python",
   "nbconvert_exporter": "python",
   "pygments_lexer": "ipython3",
   "version": "3.8.10"
  }
 },
 "nbformat": 4,
 "nbformat_minor": 5
}
